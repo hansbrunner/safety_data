{
  "nbformat": 4,
  "nbformat_minor": 0,
  "metadata": {
    "colab": {
      "provenance": [],
      "authorship_tag": "ABX9TyPyRxGsdJP4teelYKTo/8zT",
      "include_colab_link": true
    },
    "kernelspec": {
      "name": "python3",
      "display_name": "Python 3"
    },
    "language_info": {
      "name": "python"
    }
  },
  "cells": [
    {
      "cell_type": "markdown",
      "metadata": {
        "id": "view-in-github",
        "colab_type": "text"
      },
      "source": [
        "<a href=\"https://colab.research.google.com/github/hansbrunner/safety_data/blob/main/Clozapine/Clozapine_adverse_event_time_to_onset_and_cumulative_risk.ipynb\" target=\"_parent\"><img src=\"https://colab.research.google.com/assets/colab-badge.svg\" alt=\"Open In Colab\"/></a>"
      ]
    },
    {
      "cell_type": "code",
      "execution_count": null,
      "metadata": {
        "id": "Ld7p9d2qCXIY"
      },
      "outputs": [],
      "source": [
        "\"\"\"\n",
        "In this analysis, I continue exploring data analysis techniques within the field of drug safety surveillance,\n",
        "specifically targeting time-to-onset and cumulative risk of adverse events.\n",
        "These approaches provide valuable insights into when adverse events occur during drug treatment and\n",
        "how the risk accumulates over time, which is critical for assessing the safety of medications,\n",
        "especially those used in complex treatment scenarios such as psychiatric and neurological conditions.\n",
        "\n",
        "The focus remains on Clozapine, an antipsychotic drug primarily used to treat schizophrenia,\n",
        "known for its efficacy but also for its potential to cause serious adverse events,\n",
        "including hematological complications such as neutropenia and leukopenia.\n",
        "Understanding when these adverse events are most likely to occur can inform clinical monitoring strategies and help mitigate risk.\n",
        "\n",
        "In this notebook, I will focus on the following:\n",
        "\n",
        "Time-to-onset analysis: Investigating when adverse events typically occur after the initiation of Clozapine treatment,\n",
        "which can provide critical insights into high-risk periods.\n",
        "Cumulative risk analysis: Assessing the overall risk of adverse events over time, highlighting how the likelihood\n",
        "of experiencing an adverse event increases as treatment duration progresses.\n",
        "Through these analyses, I aim to develop a clearer understanding of Clozapine's safety profile over time,\n",
        "utilizing real-world data from the FDA Adverse Event Reporting System (FAERS). This will not only contribute to my\n",
        "knowledge of drug safety but also enhance my ability to work with large, real-world pharmacovigilance datasets to generate meaningful insights.\n",
        "\"\"\""
      ]
    }
  ]
}