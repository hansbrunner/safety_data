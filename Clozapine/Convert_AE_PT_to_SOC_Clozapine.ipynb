{
  "nbformat": 4,
  "nbformat_minor": 0,
  "metadata": {
    "colab": {
      "provenance": [],
      "authorship_tag": "ABX9TyOdgDnsV1PbJC1J7XBtm6Z6",
      "include_colab_link": true
    },
    "kernelspec": {
      "name": "python3",
      "display_name": "Python 3"
    },
    "language_info": {
      "name": "python"
    }
  },
  "cells": [
    {
      "cell_type": "markdown",
      "metadata": {
        "id": "view-in-github",
        "colab_type": "text"
      },
      "source": [
        "<a href=\"https://colab.research.google.com/github/hansbrunner/safety_data/blob/main/Clozapine/Convert_AE_PT_to_SOC_Clozapine.ipynb\" target=\"_parent\"><img src=\"https://colab.research.google.com/assets/colab-badge.svg\" alt=\"Open In Colab\"/></a>"
      ]
    },
    {
      "cell_type": "code",
      "execution_count": null,
      "metadata": {
        "id": "s2VtOb6pRm6g"
      },
      "outputs": [],
      "source": [
        "\"\"\"\n",
        "In this analysis, I aim to explore the use of data analysis techniques within the field of drug safety surveillance.\n",
        "First, I will create a file to convert reported Clozapine AE in PT to SOC using ChatGPT-3.5.\n",
        "This is not 100% accurate (manuel evaluation), but I get an acceptable result.\n",
        "\"\"\""
      ]
    },
    {
      "cell_type": "code",
      "source": [
        "# get Clozapine AE reports from FDA\n",
        "import time\n",
        "import json\n",
        "import requests\n",
        "base_url = 'https://api.fda.gov/drug/event.json'\n",
        "\n",
        "# Parameters for the API request\n",
        "limit = 1000  # Fetch 1000 reports at a time\n",
        "total_reports_to_fetch = 10000  # The total number of reports to get\n",
        "total_reports_fetched = 0  # Counter\n",
        "data = []  # Store all reports\n",
        "\n",
        "# Loop\n",
        "while total_reports_fetched < total_reports_to_fetch:\n",
        "    # Fetch the next batch of reports\n",
        "    url = f'{base_url}?search=clozapine&limit={limit}&skip={total_reports_fetched}'\n",
        "    response = requests.get(url)\n",
        "    _data = response.json()\n",
        "\n",
        "    # Add the fetched results to the all_data list\n",
        "    data.extend(_data['results'])\n",
        "\n",
        "    # Update the total number of reports fetched\n",
        "    total_reports_fetched += len(_data['results'])\n",
        "\n",
        "    # Sleep\n",
        "    time.sleep(1)"
      ],
      "metadata": {
        "id": "FKlBdulqR5ug"
      },
      "execution_count": 2,
      "outputs": []
    },
    {
      "cell_type": "code",
      "source": [
        "# Get all unique AE as PT\n",
        "# Empty set to store unique Preferred Terms (PT)\n",
        "unique_pts = set()\n",
        "\n",
        "# Loop through each report in the data\n",
        "for report in data:\n",
        "    reactions = report['patient'].get('reaction', [])\n",
        "    for reaction in reactions:\n",
        "        event = reaction['reactionmeddrapt'] # preferred term\n",
        "        unique_pts.add(event)\n",
        "\n",
        "# Convert the set to list\n",
        "unique_pts_list = list(unique_pts)"
      ],
      "metadata": {
        "id": "uvkGG8fbSDTN"
      },
      "execution_count": 3,
      "outputs": []
    },
    {
      "cell_type": "code",
      "source": [
        "# Use chatGPT to map PTs to SOCs\n",
        "# Takes some time and costs money (Not a lot though)\n",
        "import openai\n",
        "import numpy as np\n",
        "import pandas as pd\n",
        "\n",
        "# Get openai api key\n",
        "with open('openai_key.txt', 'r') as file:\n",
        "    openai_api_key = file.read().strip()\n",
        "\n",
        "openai.api_key = openai_api_key\n",
        "# Ask GPT-3.5 to map PTs to SOCs\n",
        "def map_pt_to_soc(pt):\n",
        "    try:\n",
        "        # Call GPT-3.5\n",
        "        response = openai.ChatCompletion.create(\n",
        "            model=\"gpt-3.5-turbo\",\n",
        "            messages=[\n",
        "                {\"role\": \"system\", \"content\": \"You are a helpful assistant.\"},\n",
        "                {\"role\": \"user\", \"content\": f\"What is the medDra System Organ Class (SOC) for the following medDra Preferred Term (PT): '{pt}'? Only write the SOC.\"}\n",
        "            ],\n",
        "            max_tokens=50,\n",
        "            n=1,\n",
        "            temperature=0.0\n",
        "        )\n",
        "        # Get the SOC from the response\n",
        "        return response['choices'][0]['message']['content'].strip()\n",
        "    except Exception as e:\n",
        "        # Handle API call failure\n",
        "        print(f\"Error for PT '{pt}': {e}\")\n",
        "        return np.nan\n",
        "\n",
        "# Create a DataFrame\n",
        "pt_to_soc = pd.DataFrame({'PT': unique_pts_list}) # list from before\n",
        "\n",
        "# New column 'SOC' with nan values\n",
        "pt_to_soc['SOC'] = np.nan\n",
        "\n",
        "# Map PTs to SOCs using GPT-3.5\n",
        "pt_to_soc['SOC'] = pt_to_soc['PT'].apply(map_pt_to_soc)"
      ],
      "metadata": {
        "id": "DqVVlAFRSDwc"
      },
      "execution_count": 4,
      "outputs": []
    },
    {
      "cell_type": "code",
      "source": [
        "# Responses are not all in same format, clean!\n",
        "import re\n",
        "import pandas as pd\n",
        "\n",
        "# MedDRA SOCs\n",
        "meddra_socs = [\n",
        "    \"Blood and lymphatic system disorders\",\n",
        "    \"Cardiac disorders\",\n",
        "    \"Congenital, familial and genetic disorders\",\n",
        "    \"Ear and labyrinth disorders\",\n",
        "    \"Endocrine disorders\",\n",
        "    \"Eye disorders\",\n",
        "    \"Gastrointestinal disorders\",\n",
        "    \"General disorders and administration site conditions\",\n",
        "    \"Hepatobiliary disorders\",\n",
        "    \"Immune system disorders\",\n",
        "    \"Infections and infestations\",\n",
        "    \"Injury, poisoning and procedural complications\",\n",
        "    \"Investigations\",\n",
        "    \"Metabolism and nutrition disorders\",\n",
        "    \"Musculoskeletal and connective tissue disorders\",\n",
        "    \"Neoplasms benign, malignant and unspecified (incl cysts and polyps)\",\n",
        "    \"Nervous system disorders\",\n",
        "    \"Pregnancy, puerperium and perinatal conditions\",\n",
        "    \"Product issues\",\n",
        "    \"Psychiatric disorders\",\n",
        "    \"Renal and urinary disorders\",\n",
        "    \"Reproductive system and breast disorders\",\n",
        "    \"Respiratory, thoracic and mediastinal disorders\",\n",
        "    \"Skin and subcutaneous tissue disorders\",\n",
        "    \"Social circumstances\",\n",
        "    \"Surgical and medical procedures\",\n",
        "    \"Vascular disorders\"\n",
        "]\n",
        "\n",
        "# Removing special characters and convert to lowercase\n",
        "def clean_string(s):\n",
        "    return re.sub(r'[^\\w\\s]', '', s).strip().lower()\n",
        "\n",
        "# Match SOCs by cleaning and comparing the strings\n",
        "def normalize_soc(soc_response):\n",
        "    cleaned_response = clean_string(soc_response)\n",
        "\n",
        "    # Compare the cleaned response with the cleaned MedDRA SOC list\n",
        "    for official_soc in meddra_socs:\n",
        "        cleaned_soc = clean_string(official_soc)\n",
        "        if cleaned_soc in cleaned_response:\n",
        "            return official_soc  # Return the official SOC if matched\n",
        "\n",
        "    return None  # Return None if match is not found\n",
        "\n",
        "df = pt_to_soc.copy()\n",
        "# Match SOCs\n",
        "df['SOC_normalized'] = df['SOC'].apply(normalize_soc)\n",
        "\n",
        "# Print a sample of 10 random old and corrected SOCs\n",
        "#sampled_df = df[['SOC', 'SOC_normalized']].sample(n=10, random_state=10)\n",
        "#pd.set_option('display.max_colwidth', None)  # Ensure long text isn't truncated\n",
        "\n",
        "\n",
        "# Save\n",
        "df.to_csv('pt_soc_mapping.csv')\n",
        "from google.colab import files\n",
        "# Download the file to your desktop\n",
        "files.download('pt_soc_mapping.csv')"
      ],
      "metadata": {
        "colab": {
          "base_uri": "https://localhost:8080/",
          "height": 17
        },
        "id": "YjjLWBbtUgK4",
        "outputId": "86950895-8795-4b19-faeb-9897e58fd0cb"
      },
      "execution_count": 8,
      "outputs": [
        {
          "output_type": "display_data",
          "data": {
            "text/plain": [
              "<IPython.core.display.Javascript object>"
            ],
            "application/javascript": [
              "\n",
              "    async function download(id, filename, size) {\n",
              "      if (!google.colab.kernel.accessAllowed) {\n",
              "        return;\n",
              "      }\n",
              "      const div = document.createElement('div');\n",
              "      const label = document.createElement('label');\n",
              "      label.textContent = `Downloading \"${filename}\": `;\n",
              "      div.appendChild(label);\n",
              "      const progress = document.createElement('progress');\n",
              "      progress.max = size;\n",
              "      div.appendChild(progress);\n",
              "      document.body.appendChild(div);\n",
              "\n",
              "      const buffers = [];\n",
              "      let downloaded = 0;\n",
              "\n",
              "      const channel = await google.colab.kernel.comms.open(id);\n",
              "      // Send a message to notify the kernel that we're ready.\n",
              "      channel.send({})\n",
              "\n",
              "      for await (const message of channel.messages) {\n",
              "        // Send a message to notify the kernel that we're ready.\n",
              "        channel.send({})\n",
              "        if (message.buffers) {\n",
              "          for (const buffer of message.buffers) {\n",
              "            buffers.push(buffer);\n",
              "            downloaded += buffer.byteLength;\n",
              "            progress.value = downloaded;\n",
              "          }\n",
              "        }\n",
              "      }\n",
              "      const blob = new Blob(buffers, {type: 'application/binary'});\n",
              "      const a = document.createElement('a');\n",
              "      a.href = window.URL.createObjectURL(blob);\n",
              "      a.download = filename;\n",
              "      div.appendChild(a);\n",
              "      a.click();\n",
              "      div.remove();\n",
              "    }\n",
              "  "
            ]
          },
          "metadata": {}
        },
        {
          "output_type": "display_data",
          "data": {
            "text/plain": [
              "<IPython.core.display.Javascript object>"
            ],
            "application/javascript": [
              "download(\"download_ce685456-a4ff-418c-9758-2a809af8b022\", \"pt_soc_mapping.csv\", 354440)"
            ]
          },
          "metadata": {}
        }
      ]
    },
    {
      "cell_type": "code",
      "source": [
        "# Visualize mappings with Sangey diagram\n",
        "import pandas as pd\n",
        "import plotly.graph_objects as go\n",
        "df = pd.read_csv(\"pt_soc_mapping.csv\",index_col=0)\n",
        "\n",
        "# rename nan to Undefined\n",
        "df['SOC'].fillna('Undefined', inplace=True)\n",
        "\n",
        "# Select 50 random rows foro plot\n",
        "df_subset = df.sample(n=50, random_state=1)\n",
        "\n",
        "# Lists of unique PTs and SOCs\n",
        "unique_pts = list(df_subset['PT'].unique())\n",
        "unique_socs = list(df_subset['SOC_normalized'].unique())\n",
        "\n",
        "# Combine lists\n",
        "all_nodes = unique_pts + unique_socs\n",
        "\n",
        "# Dictionaries for mapping terms to nodes\n",
        "node_indices = {node: i for i, node in enumerate(all_nodes)}\n",
        "\n",
        "# Mappings for the Sankey diagram\n",
        "sources = [node_indices[pt] for pt in df_subset['PT']]\n",
        "targets = [node_indices[soc] for soc in df_subset['SOC_normalized']]\n",
        "\n",
        "# Plot the Sankey diagram\n",
        "fig = go.Figure(go.Sankey(\n",
        "    node = dict(\n",
        "        pad = 15,\n",
        "        thickness = 20,\n",
        "        line = dict(color = \"black\", width = 0.5),\n",
        "        label = all_nodes\n",
        "    ),\n",
        "    link = dict(\n",
        "        source = sources,  # PTs\n",
        "        target = targets,  # SOCs\n",
        "        value = [1]*len(df_subset)  # 1-to-1 mapping\n",
        "    )\n",
        "))\n",
        "\n",
        "# Tidy\n",
        "fig.update_layout(\n",
        "    title_text=\"MedDRA PT to SOC Mapping\",\n",
        "    font_size=12,\n",
        "    autosize=False,\n",
        "    width=1200,\n",
        "    height=700,\n",
        "    margin=dict(l=200, r=200, t=50, b=50)\n",
        ")\n",
        "fig.show()"
      ],
      "metadata": {
        "colab": {
          "base_uri": "https://localhost:8080/",
          "height": 737
        },
        "id": "6JYDH-IT-y4Q",
        "outputId": "609bc12d-728f-4f4e-a67b-942872bd88fa"
      },
      "execution_count": 12,
      "outputs": [
        {
          "output_type": "display_data",
          "data": {
            "text/html": [
              "<html>\n",
              "<head><meta charset=\"utf-8\" /></head>\n",
              "<body>\n",
              "    <div>            <script src=\"https://cdnjs.cloudflare.com/ajax/libs/mathjax/2.7.5/MathJax.js?config=TeX-AMS-MML_SVG\"></script><script type=\"text/javascript\">if (window.MathJax && window.MathJax.Hub && window.MathJax.Hub.Config) {window.MathJax.Hub.Config({SVG: {font: \"STIX-Web\"}});}</script>                <script type=\"text/javascript\">window.PlotlyConfig = {MathJaxConfig: 'local'};</script>\n",
              "        <script charset=\"utf-8\" src=\"https://cdn.plot.ly/plotly-2.35.2.min.js\"></script>                <div id=\"d634c071-8590-47bc-b4cd-79985953273b\" class=\"plotly-graph-div\" style=\"height:700px; width:1200px;\"></div>            <script type=\"text/javascript\">                                    window.PLOTLYENV=window.PLOTLYENV || {};                                    if (document.getElementById(\"d634c071-8590-47bc-b4cd-79985953273b\")) {                    Plotly.newPlot(                        \"d634c071-8590-47bc-b4cd-79985953273b\",                        [{\"link\":{\"source\":[0,1,2,3,4,5,6,7,8,9,10,11,12,13,14,15,16,17,18,19,20,21,22,23,24,25,26,27,28,29,30,31,32,33,34,35,36,37,38,39,40,41,42,43,44,45,46,47,48,49],\"target\":[50,51,52,53,53,54,55,56,50,50,57,54,58,54,53,53,59,60,57,61,50,62,63,64,50,58,61,54,65,55,64,57,63,54,66,64,67,67,58,52,68,56,59,60,61,58,54,63,64,51],\"value\":[1,1,1,1,1,1,1,1,1,1,1,1,1,1,1,1,1,1,1,1,1,1,1,1,1,1,1,1,1,1,1,1,1,1,1,1,1,1,1,1,1,1,1,1,1,1,1,1,1,1]},\"node\":{\"label\":[\"Panic disorder\",\"Hepatic function abnormal\",\"Head and neck cancer\",\"Right ventricular failure\",\"Electrocardiogram PR shortened\",\"Oesophageal cancer metastatic\",\"Metatarsalgia\",\"Therapeutic product ineffective\",\"Anhedonia\",\"Antisocial personality disorder\",\"Blood potassium decreased\",\"Intestinal pseudo-obstruction\",\"Obstructive uropathy\",\"Polyp\",\"Electrocardiogram T wave abnormal\",\"Cardiac failure\",\"Mean cell haemoglobin concentration decreased\",\"Thyroid disorder\",\"Waist circumference increased\",\"Spinal cord compression\",\"Mild mental retardation\",\"Abscess oral\",\"Epistaxis\",\"Spinal cord injury cervical\",\"Living in residential institution\",\"Renal failure\",\"Convulsive threshold lowered\",\"Impaired gastric emptying\",\"Premature labour\",\"Traumatic arthropathy\",\"Wrist fracture\",\"Dehydration\",\"Lung abscess\",\"Gastrointestinal obstruction\",\"Angiopathy\",\"Needle issue\",\"Orthopaedic procedure\",\"Device deployment issue\",\"Dysuria\",\"Renal neoplasm\",\"Retracted nipple\",\"Injection site swelling\",\"Sickle cell anaemia with crisis\",\"Glucose tolerance test abnormal\",\"Middle insomnia\",\"Oliguria\",\"Stoma site discharge\",\"Non-small cell lung cancer\",\"Lumbar vertebral fracture\",\"Granulomatous liver disease\",\"Psychiatric disorders\",\"Hepatobiliary disorders\",\"Neoplasms benign, malignant and unspecified (incl cysts and polyps)\",\"Cardiac disorders\",\"Gastrointestinal disorders\",\"Musculoskeletal and connective tissue disorders\",\"General disorders and administration site conditions\",\"Metabolism and nutrition disorders\",\"Renal and urinary disorders\",\"Blood and lymphatic system disorders\",\"Endocrine disorders\",\"Nervous system disorders\",\"Infections and infestations\",\"Respiratory, thoracic and mediastinal disorders\",\"Injury, poisoning and procedural complications\",\"Pregnancy, puerperium and perinatal conditions\",\"Vascular disorders\",\"Surgical and medical procedures\",null],\"line\":{\"color\":\"black\",\"width\":0.5},\"pad\":15,\"thickness\":20},\"type\":\"sankey\"}],                        {\"template\":{\"data\":{\"histogram2dcontour\":[{\"type\":\"histogram2dcontour\",\"colorbar\":{\"outlinewidth\":0,\"ticks\":\"\"},\"colorscale\":[[0.0,\"#0d0887\"],[0.1111111111111111,\"#46039f\"],[0.2222222222222222,\"#7201a8\"],[0.3333333333333333,\"#9c179e\"],[0.4444444444444444,\"#bd3786\"],[0.5555555555555556,\"#d8576b\"],[0.6666666666666666,\"#ed7953\"],[0.7777777777777778,\"#fb9f3a\"],[0.8888888888888888,\"#fdca26\"],[1.0,\"#f0f921\"]]}],\"choropleth\":[{\"type\":\"choropleth\",\"colorbar\":{\"outlinewidth\":0,\"ticks\":\"\"}}],\"histogram2d\":[{\"type\":\"histogram2d\",\"colorbar\":{\"outlinewidth\":0,\"ticks\":\"\"},\"colorscale\":[[0.0,\"#0d0887\"],[0.1111111111111111,\"#46039f\"],[0.2222222222222222,\"#7201a8\"],[0.3333333333333333,\"#9c179e\"],[0.4444444444444444,\"#bd3786\"],[0.5555555555555556,\"#d8576b\"],[0.6666666666666666,\"#ed7953\"],[0.7777777777777778,\"#fb9f3a\"],[0.8888888888888888,\"#fdca26\"],[1.0,\"#f0f921\"]]}],\"heatmap\":[{\"type\":\"heatmap\",\"colorbar\":{\"outlinewidth\":0,\"ticks\":\"\"},\"colorscale\":[[0.0,\"#0d0887\"],[0.1111111111111111,\"#46039f\"],[0.2222222222222222,\"#7201a8\"],[0.3333333333333333,\"#9c179e\"],[0.4444444444444444,\"#bd3786\"],[0.5555555555555556,\"#d8576b\"],[0.6666666666666666,\"#ed7953\"],[0.7777777777777778,\"#fb9f3a\"],[0.8888888888888888,\"#fdca26\"],[1.0,\"#f0f921\"]]}],\"heatmapgl\":[{\"type\":\"heatmapgl\",\"colorbar\":{\"outlinewidth\":0,\"ticks\":\"\"},\"colorscale\":[[0.0,\"#0d0887\"],[0.1111111111111111,\"#46039f\"],[0.2222222222222222,\"#7201a8\"],[0.3333333333333333,\"#9c179e\"],[0.4444444444444444,\"#bd3786\"],[0.5555555555555556,\"#d8576b\"],[0.6666666666666666,\"#ed7953\"],[0.7777777777777778,\"#fb9f3a\"],[0.8888888888888888,\"#fdca26\"],[1.0,\"#f0f921\"]]}],\"contourcarpet\":[{\"type\":\"contourcarpet\",\"colorbar\":{\"outlinewidth\":0,\"ticks\":\"\"}}],\"contour\":[{\"type\":\"contour\",\"colorbar\":{\"outlinewidth\":0,\"ticks\":\"\"},\"colorscale\":[[0.0,\"#0d0887\"],[0.1111111111111111,\"#46039f\"],[0.2222222222222222,\"#7201a8\"],[0.3333333333333333,\"#9c179e\"],[0.4444444444444444,\"#bd3786\"],[0.5555555555555556,\"#d8576b\"],[0.6666666666666666,\"#ed7953\"],[0.7777777777777778,\"#fb9f3a\"],[0.8888888888888888,\"#fdca26\"],[1.0,\"#f0f921\"]]}],\"surface\":[{\"type\":\"surface\",\"colorbar\":{\"outlinewidth\":0,\"ticks\":\"\"},\"colorscale\":[[0.0,\"#0d0887\"],[0.1111111111111111,\"#46039f\"],[0.2222222222222222,\"#7201a8\"],[0.3333333333333333,\"#9c179e\"],[0.4444444444444444,\"#bd3786\"],[0.5555555555555556,\"#d8576b\"],[0.6666666666666666,\"#ed7953\"],[0.7777777777777778,\"#fb9f3a\"],[0.8888888888888888,\"#fdca26\"],[1.0,\"#f0f921\"]]}],\"mesh3d\":[{\"type\":\"mesh3d\",\"colorbar\":{\"outlinewidth\":0,\"ticks\":\"\"}}],\"scatter\":[{\"fillpattern\":{\"fillmode\":\"overlay\",\"size\":10,\"solidity\":0.2},\"type\":\"scatter\"}],\"parcoords\":[{\"type\":\"parcoords\",\"line\":{\"colorbar\":{\"outlinewidth\":0,\"ticks\":\"\"}}}],\"scatterpolargl\":[{\"type\":\"scatterpolargl\",\"marker\":{\"colorbar\":{\"outlinewidth\":0,\"ticks\":\"\"}}}],\"bar\":[{\"error_x\":{\"color\":\"#2a3f5f\"},\"error_y\":{\"color\":\"#2a3f5f\"},\"marker\":{\"line\":{\"color\":\"#E5ECF6\",\"width\":0.5},\"pattern\":{\"fillmode\":\"overlay\",\"size\":10,\"solidity\":0.2}},\"type\":\"bar\"}],\"scattergeo\":[{\"type\":\"scattergeo\",\"marker\":{\"colorbar\":{\"outlinewidth\":0,\"ticks\":\"\"}}}],\"scatterpolar\":[{\"type\":\"scatterpolar\",\"marker\":{\"colorbar\":{\"outlinewidth\":0,\"ticks\":\"\"}}}],\"histogram\":[{\"marker\":{\"pattern\":{\"fillmode\":\"overlay\",\"size\":10,\"solidity\":0.2}},\"type\":\"histogram\"}],\"scattergl\":[{\"type\":\"scattergl\",\"marker\":{\"colorbar\":{\"outlinewidth\":0,\"ticks\":\"\"}}}],\"scatter3d\":[{\"type\":\"scatter3d\",\"line\":{\"colorbar\":{\"outlinewidth\":0,\"ticks\":\"\"}},\"marker\":{\"colorbar\":{\"outlinewidth\":0,\"ticks\":\"\"}}}],\"scattermapbox\":[{\"type\":\"scattermapbox\",\"marker\":{\"colorbar\":{\"outlinewidth\":0,\"ticks\":\"\"}}}],\"scatterternary\":[{\"type\":\"scatterternary\",\"marker\":{\"colorbar\":{\"outlinewidth\":0,\"ticks\":\"\"}}}],\"scattercarpet\":[{\"type\":\"scattercarpet\",\"marker\":{\"colorbar\":{\"outlinewidth\":0,\"ticks\":\"\"}}}],\"carpet\":[{\"aaxis\":{\"endlinecolor\":\"#2a3f5f\",\"gridcolor\":\"white\",\"linecolor\":\"white\",\"minorgridcolor\":\"white\",\"startlinecolor\":\"#2a3f5f\"},\"baxis\":{\"endlinecolor\":\"#2a3f5f\",\"gridcolor\":\"white\",\"linecolor\":\"white\",\"minorgridcolor\":\"white\",\"startlinecolor\":\"#2a3f5f\"},\"type\":\"carpet\"}],\"table\":[{\"cells\":{\"fill\":{\"color\":\"#EBF0F8\"},\"line\":{\"color\":\"white\"}},\"header\":{\"fill\":{\"color\":\"#C8D4E3\"},\"line\":{\"color\":\"white\"}},\"type\":\"table\"}],\"barpolar\":[{\"marker\":{\"line\":{\"color\":\"#E5ECF6\",\"width\":0.5},\"pattern\":{\"fillmode\":\"overlay\",\"size\":10,\"solidity\":0.2}},\"type\":\"barpolar\"}],\"pie\":[{\"automargin\":true,\"type\":\"pie\"}]},\"layout\":{\"autotypenumbers\":\"strict\",\"colorway\":[\"#636efa\",\"#EF553B\",\"#00cc96\",\"#ab63fa\",\"#FFA15A\",\"#19d3f3\",\"#FF6692\",\"#B6E880\",\"#FF97FF\",\"#FECB52\"],\"font\":{\"color\":\"#2a3f5f\"},\"hovermode\":\"closest\",\"hoverlabel\":{\"align\":\"left\"},\"paper_bgcolor\":\"white\",\"plot_bgcolor\":\"#E5ECF6\",\"polar\":{\"bgcolor\":\"#E5ECF6\",\"angularaxis\":{\"gridcolor\":\"white\",\"linecolor\":\"white\",\"ticks\":\"\"},\"radialaxis\":{\"gridcolor\":\"white\",\"linecolor\":\"white\",\"ticks\":\"\"}},\"ternary\":{\"bgcolor\":\"#E5ECF6\",\"aaxis\":{\"gridcolor\":\"white\",\"linecolor\":\"white\",\"ticks\":\"\"},\"baxis\":{\"gridcolor\":\"white\",\"linecolor\":\"white\",\"ticks\":\"\"},\"caxis\":{\"gridcolor\":\"white\",\"linecolor\":\"white\",\"ticks\":\"\"}},\"coloraxis\":{\"colorbar\":{\"outlinewidth\":0,\"ticks\":\"\"}},\"colorscale\":{\"sequential\":[[0.0,\"#0d0887\"],[0.1111111111111111,\"#46039f\"],[0.2222222222222222,\"#7201a8\"],[0.3333333333333333,\"#9c179e\"],[0.4444444444444444,\"#bd3786\"],[0.5555555555555556,\"#d8576b\"],[0.6666666666666666,\"#ed7953\"],[0.7777777777777778,\"#fb9f3a\"],[0.8888888888888888,\"#fdca26\"],[1.0,\"#f0f921\"]],\"sequentialminus\":[[0.0,\"#0d0887\"],[0.1111111111111111,\"#46039f\"],[0.2222222222222222,\"#7201a8\"],[0.3333333333333333,\"#9c179e\"],[0.4444444444444444,\"#bd3786\"],[0.5555555555555556,\"#d8576b\"],[0.6666666666666666,\"#ed7953\"],[0.7777777777777778,\"#fb9f3a\"],[0.8888888888888888,\"#fdca26\"],[1.0,\"#f0f921\"]],\"diverging\":[[0,\"#8e0152\"],[0.1,\"#c51b7d\"],[0.2,\"#de77ae\"],[0.3,\"#f1b6da\"],[0.4,\"#fde0ef\"],[0.5,\"#f7f7f7\"],[0.6,\"#e6f5d0\"],[0.7,\"#b8e186\"],[0.8,\"#7fbc41\"],[0.9,\"#4d9221\"],[1,\"#276419\"]]},\"xaxis\":{\"gridcolor\":\"white\",\"linecolor\":\"white\",\"ticks\":\"\",\"title\":{\"standoff\":15},\"zerolinecolor\":\"white\",\"automargin\":true,\"zerolinewidth\":2},\"yaxis\":{\"gridcolor\":\"white\",\"linecolor\":\"white\",\"ticks\":\"\",\"title\":{\"standoff\":15},\"zerolinecolor\":\"white\",\"automargin\":true,\"zerolinewidth\":2},\"scene\":{\"xaxis\":{\"backgroundcolor\":\"#E5ECF6\",\"gridcolor\":\"white\",\"linecolor\":\"white\",\"showbackground\":true,\"ticks\":\"\",\"zerolinecolor\":\"white\",\"gridwidth\":2},\"yaxis\":{\"backgroundcolor\":\"#E5ECF6\",\"gridcolor\":\"white\",\"linecolor\":\"white\",\"showbackground\":true,\"ticks\":\"\",\"zerolinecolor\":\"white\",\"gridwidth\":2},\"zaxis\":{\"backgroundcolor\":\"#E5ECF6\",\"gridcolor\":\"white\",\"linecolor\":\"white\",\"showbackground\":true,\"ticks\":\"\",\"zerolinecolor\":\"white\",\"gridwidth\":2}},\"shapedefaults\":{\"line\":{\"color\":\"#2a3f5f\"}},\"annotationdefaults\":{\"arrowcolor\":\"#2a3f5f\",\"arrowhead\":0,\"arrowwidth\":1},\"geo\":{\"bgcolor\":\"white\",\"landcolor\":\"#E5ECF6\",\"subunitcolor\":\"white\",\"showland\":true,\"showlakes\":true,\"lakecolor\":\"white\"},\"title\":{\"x\":0.05},\"mapbox\":{\"style\":\"light\"}}},\"title\":{\"text\":\"MedDRA PT to SOC Mapping\"},\"font\":{\"size\":12},\"margin\":{\"l\":200,\"r\":200,\"t\":50,\"b\":50},\"autosize\":false,\"width\":1200,\"height\":700},                        {\"responsive\": true}                    ).then(function(){\n",
              "                            \n",
              "var gd = document.getElementById('d634c071-8590-47bc-b4cd-79985953273b');\n",
              "var x = new MutationObserver(function (mutations, observer) {{\n",
              "        var display = window.getComputedStyle(gd).display;\n",
              "        if (!display || display === 'none') {{\n",
              "            console.log([gd, 'removed!']);\n",
              "            Plotly.purge(gd);\n",
              "            observer.disconnect();\n",
              "        }}\n",
              "}});\n",
              "\n",
              "// Listen for the removal of the full notebook cells\n",
              "var notebookContainer = gd.closest('#notebook-container');\n",
              "if (notebookContainer) {{\n",
              "    x.observe(notebookContainer, {childList: true});\n",
              "}}\n",
              "\n",
              "// Listen for the clearing of the current output cell\n",
              "var outputEl = gd.closest('.output');\n",
              "if (outputEl) {{\n",
              "    x.observe(outputEl, {childList: true});\n",
              "}}\n",
              "\n",
              "                        })                };                            </script>        </div>\n",
              "</body>\n",
              "</html>"
            ]
          },
          "metadata": {}
        }
      ]
    },
    {
      "cell_type": "code",
      "source": [],
      "metadata": {
        "colab": {
          "base_uri": "https://localhost:8080/"
        },
        "id": "mAU2rGnN_EdM",
        "outputId": "61f2276e-3950-48ba-f1a7-f3b266e03cd9"
      },
      "execution_count": 4,
      "outputs": [
        {
          "output_type": "stream",
          "name": "stdout",
          "text": [
            "Requirement already satisfied: plotly in /usr/local/lib/python3.10/dist-packages (5.24.1)\n",
            "Requirement already satisfied: pandas in /usr/local/lib/python3.10/dist-packages (2.1.4)\n",
            "Requirement already satisfied: tenacity>=6.2.0 in /usr/local/lib/python3.10/dist-packages (from plotly) (9.0.0)\n",
            "Requirement already satisfied: packaging in /usr/local/lib/python3.10/dist-packages (from plotly) (24.1)\n",
            "Requirement already satisfied: numpy<2,>=1.22.4 in /usr/local/lib/python3.10/dist-packages (from pandas) (1.26.4)\n",
            "Requirement already satisfied: python-dateutil>=2.8.2 in /usr/local/lib/python3.10/dist-packages (from pandas) (2.8.2)\n",
            "Requirement already satisfied: pytz>=2020.1 in /usr/local/lib/python3.10/dist-packages (from pandas) (2024.2)\n",
            "Requirement already satisfied: tzdata>=2022.1 in /usr/local/lib/python3.10/dist-packages (from pandas) (2024.1)\n",
            "Requirement already satisfied: six>=1.5 in /usr/local/lib/python3.10/dist-packages (from python-dateutil>=2.8.2->pandas) (1.16.0)\n"
          ]
        }
      ]
    },
    {
      "cell_type": "code",
      "source": [],
      "metadata": {
        "id": "znQmDrpH-7Hv"
      },
      "execution_count": null,
      "outputs": []
    }
  ]
}